{
 "cells": [
  {
   "cell_type": "code",
   "execution_count": 1,
   "metadata": {},
   "outputs": [
    {
     "name": "stderr",
     "output_type": "stream",
     "text": [
      "C:\\Users\\Simon\\AppData\\Local\\Temp\\ipykernel_20220\\906848467.py:3: DeprecationWarning: \n",
      "Pyarrow will become a required dependency of pandas in the next major release of pandas (pandas 3.0),\n",
      "(to allow more performant data types, such as the Arrow string type, and better interoperability with other libraries)\n",
      "but was not found to be installed on your system.\n",
      "If this would cause problems for you,\n",
      "please provide us feedback at https://github.com/pandas-dev/pandas/issues/54466\n",
      "        \n",
      "  import pandas as pd\n"
     ]
    }
   ],
   "source": [
    "#import requests\n",
    "import json\n",
    "import pandas as pd\n",
    "from selenium import webdriver\n",
    "from selenium.webdriver.common.by import By"
   ]
  },
  {
   "cell_type": "code",
   "execution_count": 3,
   "metadata": {},
   "outputs": [
    {
     "ename": "KeyboardInterrupt",
     "evalue": "",
     "output_type": "error",
     "traceback": [
      "\u001b[1;31m---------------------------------------------------------------------------\u001b[0m",
      "\u001b[1;31mKeyboardInterrupt\u001b[0m                         Traceback (most recent call last)",
      "Cell \u001b[1;32mIn [3], line 5\u001b[0m\n\u001b[0;32m      3\u001b[0m incr \u001b[38;5;241m=\u001b[39m \u001b[38;5;241m0\u001b[39m\n\u001b[0;32m      4\u001b[0m \u001b[38;5;28;01mwhile\u001b[39;00m cond :\n\u001b[1;32m----> 5\u001b[0m     response \u001b[38;5;241m=\u001b[39m requests\u001b[38;5;241m.\u001b[39mget(\u001b[38;5;124m\"\u001b[39m\u001b[38;5;124mhttps://www.sofascore.com/api/v1/event/12450261/statistics\u001b[39m\u001b[38;5;124m\"\u001b[39m)\n\u001b[0;32m      6\u001b[0m     \u001b[38;5;28;01mif\u001b[39;00m response\u001b[38;5;241m.\u001b[39mstatus_code \u001b[38;5;241m==\u001b[39m \u001b[38;5;241m200\u001b[39m:\n\u001b[0;32m      7\u001b[0m         incr \u001b[38;5;241m+\u001b[39m\u001b[38;5;241m=\u001b[39m \u001b[38;5;241m1\u001b[39m\n",
      "File \u001b[1;32mc:\\Users\\Simon\\AppData\\Local\\Programs\\Python\\Python310\\lib\\site-packages\\requests\\api.py:73\u001b[0m, in \u001b[0;36mget\u001b[1;34m(url, params, **kwargs)\u001b[0m\n\u001b[0;32m     62\u001b[0m \u001b[38;5;28;01mdef\u001b[39;00m \u001b[38;5;21mget\u001b[39m(url, params\u001b[38;5;241m=\u001b[39m\u001b[38;5;28;01mNone\u001b[39;00m, \u001b[38;5;241m*\u001b[39m\u001b[38;5;241m*\u001b[39mkwargs):\n\u001b[0;32m     63\u001b[0m \u001b[38;5;250m    \u001b[39m\u001b[38;5;124mr\u001b[39m\u001b[38;5;124;03m\"\"\"Sends a GET request.\u001b[39;00m\n\u001b[0;32m     64\u001b[0m \n\u001b[0;32m     65\u001b[0m \u001b[38;5;124;03m    :param url: URL for the new :class:`Request` object.\u001b[39;00m\n\u001b[1;32m   (...)\u001b[0m\n\u001b[0;32m     70\u001b[0m \u001b[38;5;124;03m    :rtype: requests.Response\u001b[39;00m\n\u001b[0;32m     71\u001b[0m \u001b[38;5;124;03m    \"\"\"\u001b[39;00m\n\u001b[1;32m---> 73\u001b[0m     \u001b[38;5;28;01mreturn\u001b[39;00m request(\u001b[38;5;124m\"\u001b[39m\u001b[38;5;124mget\u001b[39m\u001b[38;5;124m\"\u001b[39m, url, params\u001b[38;5;241m=\u001b[39mparams, \u001b[38;5;241m*\u001b[39m\u001b[38;5;241m*\u001b[39mkwargs)\n",
      "File \u001b[1;32mc:\\Users\\Simon\\AppData\\Local\\Programs\\Python\\Python310\\lib\\site-packages\\requests\\api.py:59\u001b[0m, in \u001b[0;36mrequest\u001b[1;34m(method, url, **kwargs)\u001b[0m\n\u001b[0;32m     55\u001b[0m \u001b[38;5;66;03m# By using the 'with' statement we are sure the session is closed, thus we\u001b[39;00m\n\u001b[0;32m     56\u001b[0m \u001b[38;5;66;03m# avoid leaving sockets open which can trigger a ResourceWarning in some\u001b[39;00m\n\u001b[0;32m     57\u001b[0m \u001b[38;5;66;03m# cases, and look like a memory leak in others.\u001b[39;00m\n\u001b[0;32m     58\u001b[0m \u001b[38;5;28;01mwith\u001b[39;00m sessions\u001b[38;5;241m.\u001b[39mSession() \u001b[38;5;28;01mas\u001b[39;00m session:\n\u001b[1;32m---> 59\u001b[0m     \u001b[38;5;28;01mreturn\u001b[39;00m session\u001b[38;5;241m.\u001b[39mrequest(method\u001b[38;5;241m=\u001b[39mmethod, url\u001b[38;5;241m=\u001b[39murl, \u001b[38;5;241m*\u001b[39m\u001b[38;5;241m*\u001b[39mkwargs)\n",
      "File \u001b[1;32mc:\\Users\\Simon\\AppData\\Local\\Programs\\Python\\Python310\\lib\\site-packages\\requests\\sessions.py:589\u001b[0m, in \u001b[0;36mSession.request\u001b[1;34m(self, method, url, params, data, headers, cookies, files, auth, timeout, allow_redirects, proxies, hooks, stream, verify, cert, json)\u001b[0m\n\u001b[0;32m    584\u001b[0m send_kwargs \u001b[38;5;241m=\u001b[39m {\n\u001b[0;32m    585\u001b[0m     \u001b[38;5;124m\"\u001b[39m\u001b[38;5;124mtimeout\u001b[39m\u001b[38;5;124m\"\u001b[39m: timeout,\n\u001b[0;32m    586\u001b[0m     \u001b[38;5;124m\"\u001b[39m\u001b[38;5;124mallow_redirects\u001b[39m\u001b[38;5;124m\"\u001b[39m: allow_redirects,\n\u001b[0;32m    587\u001b[0m }\n\u001b[0;32m    588\u001b[0m send_kwargs\u001b[38;5;241m.\u001b[39mupdate(settings)\n\u001b[1;32m--> 589\u001b[0m resp \u001b[38;5;241m=\u001b[39m \u001b[38;5;28mself\u001b[39m\u001b[38;5;241m.\u001b[39msend(prep, \u001b[38;5;241m*\u001b[39m\u001b[38;5;241m*\u001b[39msend_kwargs)\n\u001b[0;32m    591\u001b[0m \u001b[38;5;28;01mreturn\u001b[39;00m resp\n",
      "File \u001b[1;32mc:\\Users\\Simon\\AppData\\Local\\Programs\\Python\\Python310\\lib\\site-packages\\requests\\sessions.py:703\u001b[0m, in \u001b[0;36mSession.send\u001b[1;34m(self, request, **kwargs)\u001b[0m\n\u001b[0;32m    700\u001b[0m start \u001b[38;5;241m=\u001b[39m preferred_clock()\n\u001b[0;32m    702\u001b[0m \u001b[38;5;66;03m# Send the request\u001b[39;00m\n\u001b[1;32m--> 703\u001b[0m r \u001b[38;5;241m=\u001b[39m adapter\u001b[38;5;241m.\u001b[39msend(request, \u001b[38;5;241m*\u001b[39m\u001b[38;5;241m*\u001b[39mkwargs)\n\u001b[0;32m    705\u001b[0m \u001b[38;5;66;03m# Total elapsed time of the request (approximately)\u001b[39;00m\n\u001b[0;32m    706\u001b[0m elapsed \u001b[38;5;241m=\u001b[39m preferred_clock() \u001b[38;5;241m-\u001b[39m start\n",
      "File \u001b[1;32mc:\\Users\\Simon\\AppData\\Local\\Programs\\Python\\Python310\\lib\\site-packages\\requests\\adapters.py:667\u001b[0m, in \u001b[0;36mHTTPAdapter.send\u001b[1;34m(self, request, stream, timeout, verify, cert, proxies)\u001b[0m\n\u001b[0;32m    664\u001b[0m     timeout \u001b[38;5;241m=\u001b[39m TimeoutSauce(connect\u001b[38;5;241m=\u001b[39mtimeout, read\u001b[38;5;241m=\u001b[39mtimeout)\n\u001b[0;32m    666\u001b[0m \u001b[38;5;28;01mtry\u001b[39;00m:\n\u001b[1;32m--> 667\u001b[0m     resp \u001b[38;5;241m=\u001b[39m \u001b[43mconn\u001b[49m\u001b[38;5;241;43m.\u001b[39;49m\u001b[43murlopen\u001b[49m\u001b[43m(\u001b[49m\n\u001b[0;32m    668\u001b[0m \u001b[43m        \u001b[49m\u001b[43mmethod\u001b[49m\u001b[38;5;241;43m=\u001b[39;49m\u001b[43mrequest\u001b[49m\u001b[38;5;241;43m.\u001b[39;49m\u001b[43mmethod\u001b[49m\u001b[43m,\u001b[49m\n\u001b[0;32m    669\u001b[0m \u001b[43m        \u001b[49m\u001b[43murl\u001b[49m\u001b[38;5;241;43m=\u001b[39;49m\u001b[43murl\u001b[49m\u001b[43m,\u001b[49m\n\u001b[0;32m    670\u001b[0m \u001b[43m        \u001b[49m\u001b[43mbody\u001b[49m\u001b[38;5;241;43m=\u001b[39;49m\u001b[43mrequest\u001b[49m\u001b[38;5;241;43m.\u001b[39;49m\u001b[43mbody\u001b[49m\u001b[43m,\u001b[49m\n\u001b[0;32m    671\u001b[0m \u001b[43m        \u001b[49m\u001b[43mheaders\u001b[49m\u001b[38;5;241;43m=\u001b[39;49m\u001b[43mrequest\u001b[49m\u001b[38;5;241;43m.\u001b[39;49m\u001b[43mheaders\u001b[49m\u001b[43m,\u001b[49m\n\u001b[0;32m    672\u001b[0m \u001b[43m        \u001b[49m\u001b[43mredirect\u001b[49m\u001b[38;5;241;43m=\u001b[39;49m\u001b[38;5;28;43;01mFalse\u001b[39;49;00m\u001b[43m,\u001b[49m\n\u001b[0;32m    673\u001b[0m \u001b[43m        \u001b[49m\u001b[43massert_same_host\u001b[49m\u001b[38;5;241;43m=\u001b[39;49m\u001b[38;5;28;43;01mFalse\u001b[39;49;00m\u001b[43m,\u001b[49m\n\u001b[0;32m    674\u001b[0m \u001b[43m        \u001b[49m\u001b[43mpreload_content\u001b[49m\u001b[38;5;241;43m=\u001b[39;49m\u001b[38;5;28;43;01mFalse\u001b[39;49;00m\u001b[43m,\u001b[49m\n\u001b[0;32m    675\u001b[0m \u001b[43m        \u001b[49m\u001b[43mdecode_content\u001b[49m\u001b[38;5;241;43m=\u001b[39;49m\u001b[38;5;28;43;01mFalse\u001b[39;49;00m\u001b[43m,\u001b[49m\n\u001b[0;32m    676\u001b[0m \u001b[43m        \u001b[49m\u001b[43mretries\u001b[49m\u001b[38;5;241;43m=\u001b[39;49m\u001b[38;5;28;43mself\u001b[39;49m\u001b[38;5;241;43m.\u001b[39;49m\u001b[43mmax_retries\u001b[49m\u001b[43m,\u001b[49m\n\u001b[0;32m    677\u001b[0m \u001b[43m        \u001b[49m\u001b[43mtimeout\u001b[49m\u001b[38;5;241;43m=\u001b[39;49m\u001b[43mtimeout\u001b[49m\u001b[43m,\u001b[49m\n\u001b[0;32m    678\u001b[0m \u001b[43m        \u001b[49m\u001b[43mchunked\u001b[49m\u001b[38;5;241;43m=\u001b[39;49m\u001b[43mchunked\u001b[49m\u001b[43m,\u001b[49m\n\u001b[0;32m    679\u001b[0m \u001b[43m    \u001b[49m\u001b[43m)\u001b[49m\n\u001b[0;32m    681\u001b[0m \u001b[38;5;28;01mexcept\u001b[39;00m (ProtocolError, \u001b[38;5;167;01mOSError\u001b[39;00m) \u001b[38;5;28;01mas\u001b[39;00m err:\n\u001b[0;32m    682\u001b[0m     \u001b[38;5;28;01mraise\u001b[39;00m \u001b[38;5;167;01mConnectionError\u001b[39;00m(err, request\u001b[38;5;241m=\u001b[39mrequest)\n",
      "File \u001b[1;32mc:\\Users\\Simon\\AppData\\Local\\Programs\\Python\\Python310\\lib\\site-packages\\urllib3\\connectionpool.py:703\u001b[0m, in \u001b[0;36mHTTPConnectionPool.urlopen\u001b[1;34m(self, method, url, body, headers, retries, redirect, assert_same_host, timeout, pool_timeout, release_conn, chunked, body_pos, **response_kw)\u001b[0m\n\u001b[0;32m    700\u001b[0m     \u001b[38;5;28mself\u001b[39m\u001b[38;5;241m.\u001b[39m_prepare_proxy(conn)\n\u001b[0;32m    702\u001b[0m \u001b[38;5;66;03m# Make the request on the httplib connection object.\u001b[39;00m\n\u001b[1;32m--> 703\u001b[0m httplib_response \u001b[38;5;241m=\u001b[39m \u001b[38;5;28;43mself\u001b[39;49m\u001b[38;5;241;43m.\u001b[39;49m\u001b[43m_make_request\u001b[49m\u001b[43m(\u001b[49m\n\u001b[0;32m    704\u001b[0m \u001b[43m    \u001b[49m\u001b[43mconn\u001b[49m\u001b[43m,\u001b[49m\n\u001b[0;32m    705\u001b[0m \u001b[43m    \u001b[49m\u001b[43mmethod\u001b[49m\u001b[43m,\u001b[49m\n\u001b[0;32m    706\u001b[0m \u001b[43m    \u001b[49m\u001b[43murl\u001b[49m\u001b[43m,\u001b[49m\n\u001b[0;32m    707\u001b[0m \u001b[43m    \u001b[49m\u001b[43mtimeout\u001b[49m\u001b[38;5;241;43m=\u001b[39;49m\u001b[43mtimeout_obj\u001b[49m\u001b[43m,\u001b[49m\n\u001b[0;32m    708\u001b[0m \u001b[43m    \u001b[49m\u001b[43mbody\u001b[49m\u001b[38;5;241;43m=\u001b[39;49m\u001b[43mbody\u001b[49m\u001b[43m,\u001b[49m\n\u001b[0;32m    709\u001b[0m \u001b[43m    \u001b[49m\u001b[43mheaders\u001b[49m\u001b[38;5;241;43m=\u001b[39;49m\u001b[43mheaders\u001b[49m\u001b[43m,\u001b[49m\n\u001b[0;32m    710\u001b[0m \u001b[43m    \u001b[49m\u001b[43mchunked\u001b[49m\u001b[38;5;241;43m=\u001b[39;49m\u001b[43mchunked\u001b[49m\u001b[43m,\u001b[49m\n\u001b[0;32m    711\u001b[0m \u001b[43m\u001b[49m\u001b[43m)\u001b[49m\n\u001b[0;32m    713\u001b[0m \u001b[38;5;66;03m# If we're going to release the connection in ``finally:``, then\u001b[39;00m\n\u001b[0;32m    714\u001b[0m \u001b[38;5;66;03m# the response doesn't need to know about the connection. Otherwise\u001b[39;00m\n\u001b[0;32m    715\u001b[0m \u001b[38;5;66;03m# it will also try to release it and we'll have a double-release\u001b[39;00m\n\u001b[0;32m    716\u001b[0m \u001b[38;5;66;03m# mess.\u001b[39;00m\n\u001b[0;32m    717\u001b[0m response_conn \u001b[38;5;241m=\u001b[39m conn \u001b[38;5;28;01mif\u001b[39;00m \u001b[38;5;129;01mnot\u001b[39;00m release_conn \u001b[38;5;28;01melse\u001b[39;00m \u001b[38;5;28;01mNone\u001b[39;00m\n",
      "File \u001b[1;32mc:\\Users\\Simon\\AppData\\Local\\Programs\\Python\\Python310\\lib\\site-packages\\urllib3\\connectionpool.py:386\u001b[0m, in \u001b[0;36mHTTPConnectionPool._make_request\u001b[1;34m(self, conn, method, url, timeout, chunked, **httplib_request_kw)\u001b[0m\n\u001b[0;32m    384\u001b[0m \u001b[38;5;66;03m# Trigger any extra validation we need to do.\u001b[39;00m\n\u001b[0;32m    385\u001b[0m \u001b[38;5;28;01mtry\u001b[39;00m:\n\u001b[1;32m--> 386\u001b[0m     \u001b[38;5;28;43mself\u001b[39;49m\u001b[38;5;241;43m.\u001b[39;49m\u001b[43m_validate_conn\u001b[49m\u001b[43m(\u001b[49m\u001b[43mconn\u001b[49m\u001b[43m)\u001b[49m\n\u001b[0;32m    387\u001b[0m \u001b[38;5;28;01mexcept\u001b[39;00m (SocketTimeout, BaseSSLError) \u001b[38;5;28;01mas\u001b[39;00m e:\n\u001b[0;32m    388\u001b[0m     \u001b[38;5;66;03m# Py2 raises this as a BaseSSLError, Py3 raises it as socket timeout.\u001b[39;00m\n\u001b[0;32m    389\u001b[0m     \u001b[38;5;28mself\u001b[39m\u001b[38;5;241m.\u001b[39m_raise_timeout(err\u001b[38;5;241m=\u001b[39me, url\u001b[38;5;241m=\u001b[39murl, timeout_value\u001b[38;5;241m=\u001b[39mconn\u001b[38;5;241m.\u001b[39mtimeout)\n",
      "File \u001b[1;32mc:\\Users\\Simon\\AppData\\Local\\Programs\\Python\\Python310\\lib\\site-packages\\urllib3\\connectionpool.py:1042\u001b[0m, in \u001b[0;36mHTTPSConnectionPool._validate_conn\u001b[1;34m(self, conn)\u001b[0m\n\u001b[0;32m   1040\u001b[0m \u001b[38;5;66;03m# Force connect early to allow us to validate the connection.\u001b[39;00m\n\u001b[0;32m   1041\u001b[0m \u001b[38;5;28;01mif\u001b[39;00m \u001b[38;5;129;01mnot\u001b[39;00m \u001b[38;5;28mgetattr\u001b[39m(conn, \u001b[38;5;124m\"\u001b[39m\u001b[38;5;124msock\u001b[39m\u001b[38;5;124m\"\u001b[39m, \u001b[38;5;28;01mNone\u001b[39;00m):  \u001b[38;5;66;03m# AppEngine might not have  `.sock`\u001b[39;00m\n\u001b[1;32m-> 1042\u001b[0m     \u001b[43mconn\u001b[49m\u001b[38;5;241;43m.\u001b[39;49m\u001b[43mconnect\u001b[49m\u001b[43m(\u001b[49m\u001b[43m)\u001b[49m\n\u001b[0;32m   1044\u001b[0m \u001b[38;5;28;01mif\u001b[39;00m \u001b[38;5;129;01mnot\u001b[39;00m conn\u001b[38;5;241m.\u001b[39mis_verified:\n\u001b[0;32m   1045\u001b[0m     warnings\u001b[38;5;241m.\u001b[39mwarn(\n\u001b[0;32m   1046\u001b[0m         (\n\u001b[0;32m   1047\u001b[0m             \u001b[38;5;124m\"\u001b[39m\u001b[38;5;124mUnverified HTTPS request is being made to host \u001b[39m\u001b[38;5;124m'\u001b[39m\u001b[38;5;132;01m%s\u001b[39;00m\u001b[38;5;124m'\u001b[39m\u001b[38;5;124m. \u001b[39m\u001b[38;5;124m\"\u001b[39m\n\u001b[1;32m   (...)\u001b[0m\n\u001b[0;32m   1052\u001b[0m         InsecureRequestWarning,\n\u001b[0;32m   1053\u001b[0m     )\n",
      "File \u001b[1;32mc:\\Users\\Simon\\AppData\\Local\\Programs\\Python\\Python310\\lib\\site-packages\\urllib3\\connection.py:358\u001b[0m, in \u001b[0;36mHTTPSConnection.connect\u001b[1;34m(self)\u001b[0m\n\u001b[0;32m    356\u001b[0m \u001b[38;5;28;01mdef\u001b[39;00m \u001b[38;5;21mconnect\u001b[39m(\u001b[38;5;28mself\u001b[39m):\n\u001b[0;32m    357\u001b[0m     \u001b[38;5;66;03m# Add certificate verification\u001b[39;00m\n\u001b[1;32m--> 358\u001b[0m     \u001b[38;5;28mself\u001b[39m\u001b[38;5;241m.\u001b[39msock \u001b[38;5;241m=\u001b[39m conn \u001b[38;5;241m=\u001b[39m \u001b[38;5;28;43mself\u001b[39;49m\u001b[38;5;241;43m.\u001b[39;49m\u001b[43m_new_conn\u001b[49m\u001b[43m(\u001b[49m\u001b[43m)\u001b[49m\n\u001b[0;32m    359\u001b[0m     hostname \u001b[38;5;241m=\u001b[39m \u001b[38;5;28mself\u001b[39m\u001b[38;5;241m.\u001b[39mhost\n\u001b[0;32m    360\u001b[0m     tls_in_tls \u001b[38;5;241m=\u001b[39m \u001b[38;5;28;01mFalse\u001b[39;00m\n",
      "File \u001b[1;32mc:\\Users\\Simon\\AppData\\Local\\Programs\\Python\\Python310\\lib\\site-packages\\urllib3\\connection.py:174\u001b[0m, in \u001b[0;36mHTTPConnection._new_conn\u001b[1;34m(self)\u001b[0m\n\u001b[0;32m    171\u001b[0m     extra_kw[\u001b[38;5;124m\"\u001b[39m\u001b[38;5;124msocket_options\u001b[39m\u001b[38;5;124m\"\u001b[39m] \u001b[38;5;241m=\u001b[39m \u001b[38;5;28mself\u001b[39m\u001b[38;5;241m.\u001b[39msocket_options\n\u001b[0;32m    173\u001b[0m \u001b[38;5;28;01mtry\u001b[39;00m:\n\u001b[1;32m--> 174\u001b[0m     conn \u001b[38;5;241m=\u001b[39m connection\u001b[38;5;241m.\u001b[39mcreate_connection(\n\u001b[0;32m    175\u001b[0m         (\u001b[38;5;28mself\u001b[39m\u001b[38;5;241m.\u001b[39m_dns_host, \u001b[38;5;28mself\u001b[39m\u001b[38;5;241m.\u001b[39mport), \u001b[38;5;28mself\u001b[39m\u001b[38;5;241m.\u001b[39mtimeout, \u001b[38;5;241m*\u001b[39m\u001b[38;5;241m*\u001b[39mextra_kw\n\u001b[0;32m    176\u001b[0m     )\n\u001b[0;32m    178\u001b[0m \u001b[38;5;28;01mexcept\u001b[39;00m SocketTimeout:\n\u001b[0;32m    179\u001b[0m     \u001b[38;5;28;01mraise\u001b[39;00m ConnectTimeoutError(\n\u001b[0;32m    180\u001b[0m         \u001b[38;5;28mself\u001b[39m,\n\u001b[0;32m    181\u001b[0m         \u001b[38;5;124m\"\u001b[39m\u001b[38;5;124mConnection to \u001b[39m\u001b[38;5;132;01m%s\u001b[39;00m\u001b[38;5;124m timed out. (connect timeout=\u001b[39m\u001b[38;5;132;01m%s\u001b[39;00m\u001b[38;5;124m)\u001b[39m\u001b[38;5;124m\"\u001b[39m\n\u001b[0;32m    182\u001b[0m         \u001b[38;5;241m%\u001b[39m (\u001b[38;5;28mself\u001b[39m\u001b[38;5;241m.\u001b[39mhost, \u001b[38;5;28mself\u001b[39m\u001b[38;5;241m.\u001b[39mtimeout),\n\u001b[0;32m    183\u001b[0m     )\n",
      "File \u001b[1;32mc:\\Users\\Simon\\AppData\\Local\\Programs\\Python\\Python310\\lib\\site-packages\\urllib3\\util\\connection.py:85\u001b[0m, in \u001b[0;36mcreate_connection\u001b[1;34m(address, timeout, source_address, socket_options)\u001b[0m\n\u001b[0;32m     83\u001b[0m     \u001b[38;5;28;01mif\u001b[39;00m source_address:\n\u001b[0;32m     84\u001b[0m         sock\u001b[38;5;241m.\u001b[39mbind(source_address)\n\u001b[1;32m---> 85\u001b[0m     \u001b[43msock\u001b[49m\u001b[38;5;241;43m.\u001b[39;49m\u001b[43mconnect\u001b[49m\u001b[43m(\u001b[49m\u001b[43msa\u001b[49m\u001b[43m)\u001b[49m\n\u001b[0;32m     86\u001b[0m     \u001b[38;5;28;01mreturn\u001b[39;00m sock\n\u001b[0;32m     88\u001b[0m \u001b[38;5;28;01mexcept\u001b[39;00m socket\u001b[38;5;241m.\u001b[39merror \u001b[38;5;28;01mas\u001b[39;00m e:\n",
      "\u001b[1;31mKeyboardInterrupt\u001b[0m: "
     ]
    }
   ],
   "source": [
    "# Requests Crash Test\n",
    "cond = True\n",
    "incr = 0\n",
    "while cond :\n",
    "    response = requests.get(\"https://www.sofascore.com/api/v1/event/12450261/statistics\")\n",
    "    if response.status_code == 200:\n",
    "        incr += 1\n",
    "        if incr := 60:\n",
    "            cond = False\n",
    "print(incr)\n"
   ]
  },
  {
   "cell_type": "markdown",
   "metadata": {},
   "source": [
    "### Statistics"
   ]
  },
  {
   "cell_type": "code",
   "execution_count": 25,
   "metadata": {},
   "outputs": [
    {
     "name": "stdout",
     "output_type": "stream",
     "text": [
      "error: 403\n"
     ]
    }
   ],
   "source": [
    "response = requests.get(f\"https://www.sofascore.com/api/v1/event/12450261/statistics\")\n",
    "if response.status_code == 200:\n",
    "    response.json()\n",
    "else:\n",
    "    print(f\"error: {response.status_code}\")"
   ]
  },
  {
   "cell_type": "code",
   "execution_count": 3,
   "metadata": {},
   "outputs": [
    {
     "name": "stdout",
     "output_type": "stream",
     "text": [
      "{'status_code': 200, 'json': {'statistics': [{'period': 'ALL', 'groups': [{'groupName': 'Match overview', 'statisticsItems': [{'name': 'Ball possession', 'home': '67%', 'away': '33%', 'compareCode': 1, 'statisticsType': 'positive', 'valueType': 'event', 'homeValue': 104, 'awayValue': 36, 'renderType': 2, 'key': 'ballPossession'}, {'name': 'Expected goals', 'home': '3.98', 'away': '1.70', 'compareCode': 1, 'statisticsType': 'positive', 'valueType': 'event', 'homeValue': 2.6, 'awayValue': 1.3, 'renderType': 1, 'key': 'expectedGoals'}, {'name': 'Big chances', 'home': '7', 'away': '2', 'compareCode': 1, 'statisticsType': 'positive', 'valueType': 'event', 'homeValue': 6, 'awayValue': 0, 'renderType': 1, 'key': 'bigChanceCreated'}, {'name': 'Total shots', 'home': '16', 'away': '14', 'compareCode': 1, 'statisticsType': 'positive', 'valueType': 'event', 'homeValue': 30, 'awayValue': 0, 'renderType': 1, 'key': 'totalShotsOnGoal'}, {'name': 'Goalkeeper saves', 'home': '3', 'away': '3', 'compareCode': 3, 'statisticsType': 'positive', 'valueType': 'event', 'homeValue': 0, 'awayValue': 2, 'renderType': 1, 'key': 'goalkeeperSaves'}, {'name': 'Corner kicks', 'home': '4', 'away': '1', 'compareCode': 1, 'statisticsType': 'positive', 'valueType': 'event', 'homeValue': 0, 'awayValue': 0, 'renderType': 1, 'key': 'cornerKicks'}, {'name': 'Fouls', 'home': '20', 'away': '12', 'compareCode': 1, 'statisticsType': 'negative', 'valueType': 'event', 'homeValue': 30, 'awayValue': 4, 'renderType': 1, 'key': 'fouls'}, {'name': 'Passes', 'home': '608', 'away': '299', 'compareCode': 1, 'statisticsType': 'positive', 'valueType': 'event', 'homeValue': 564, 'awayValue': 328, 'renderType': 1, 'key': 'passes'}, {'name': 'Tackles', 'home': '20', 'away': '24', 'compareCode': 2, 'statisticsType': 'positive', 'valueType': 'event', 'homeValue': 8, 'awayValue': 0, 'renderType': 1, 'key': 'totalTackle'}, {'name': 'Free kicks', 'home': '11', 'away': '19', 'compareCode': 2, 'statisticsType': 'positive', 'valueType': 'event', 'homeValue': 16, 'awayValue': 24, 'renderType': 1, 'key': 'freeKicks'}, {'name': 'Yellow cards', 'home': '2', 'away': '3', 'compareCode': 2, 'statisticsType': 'negative', 'valueType': 'event', 'homeValue': 0, 'awayValue': 4, 'renderType': 1, 'key': 'yellowCards'}]}, {'groupName': 'Shots', 'statisticsItems': [{'name': 'Total shots', 'home': '16', 'away': '14', 'compareCode': 1, 'statisticsType': 'positive', 'valueType': 'event', 'homeValue': 24, 'awayValue': 20, 'renderType': 1, 'key': 'totalShotsOnGoal'}, {'name': 'Shots on target', 'home': '7', 'away': '5', 'compareCode': 1, 'statisticsType': 'positive', 'valueType': 'event', 'homeValue': 6, 'awayValue': 8, 'renderType': 1, 'key': 'shotsOnGoal'}, {'name': 'Hit woodwork', 'home': '1', 'away': '0', 'compareCode': 1, 'statisticsType': 'negative', 'valueType': 'event', 'homeValue': 0, 'awayValue': 0, 'renderType': 1, 'key': 'hitWoodwork'}, {'name': 'Shots off target', 'home': '6', 'away': '4', 'compareCode': 1, 'statisticsType': 'negative', 'valueType': 'event', 'homeValue': 2, 'awayValue': 4, 'renderType': 1, 'key': 'shotsOffGoal'}, {'name': 'Blocked shots', 'home': '3', 'away': '5', 'compareCode': 2, 'statisticsType': 'negative', 'valueType': 'event', 'homeValue': 2, 'awayValue': 4, 'renderType': 1, 'key': 'blockedScoringAttempt'}, {'name': 'Shots inside box', 'home': '12', 'away': '7', 'compareCode': 1, 'statisticsType': 'positive', 'valueType': 'event', 'homeValue': 20, 'awayValue': 6, 'renderType': 1, 'key': 'totalShotsInsideBox'}, {'name': 'Shots outside box', 'home': '4', 'away': '7', 'compareCode': 2, 'statisticsType': 'positive', 'valueType': 'event', 'homeValue': 6, 'awayValue': 10, 'renderType': 1, 'key': 'totalShotsOutsideBox'}]}, {'groupName': 'Attack', 'statisticsItems': [{'name': 'Big chances scored', 'home': '3', 'away': '2', 'compareCode': 1, 'statisticsType': 'positive', 'valueType': 'event', 'homeValue': 4, 'awayValue': 2, 'renderType': 1, 'key': 'bigChanceScored'}, {'name': 'Big chances missed', 'home': '4', 'away': '0', 'compareCode': 1, 'statisticsType': 'negative', 'valueType': 'event', 'homeValue': 4, 'awayValue': 0, 'renderType': 1, 'key': 'bigChanceMissed'}, {'name': 'Through balls', 'home': '1', 'away': '0', 'compareCode': 1, 'statisticsType': 'positive', 'valueType': 'event', 'homeValue': 0, 'awayValue': 0, 'renderType': 1, 'key': 'accurateThroughBall'}, {'name': 'Touches in penalty area', 'home': '31', 'away': '19', 'compareCode': 1, 'statisticsType': 'positive', 'valueType': 'event', 'homeValue': 28, 'awayValue': 36, 'renderType': 1, 'key': 'touchesInOppBox'}, {'name': 'Fouled in final third', 'home': '2', 'away': '2', 'compareCode': 3, 'statisticsType': 'positive', 'valueType': 'event', 'homeValue': 0, 'awayValue': 0, 'renderType': 1, 'key': 'fouledFinalThird'}, {'name': 'Offsides', 'home': '2', 'away': '0', 'compareCode': 1, 'statisticsType': 'negative', 'valueType': 'event', 'homeValue': 0, 'awayValue': 0, 'renderType': 1, 'key': 'offsides'}]}, {'groupName': 'Passes', 'statisticsItems': [{'name': 'Accurate passes', 'home': '552', 'away': '235', 'compareCode': 1, 'statisticsType': 'positive', 'valueType': 'event', 'homeValue': 264, 'awayValue': 270, 'renderType': 1, 'key': 'accuratePasses'}, {'name': 'Throw-ins', 'home': '18', 'away': '11', 'compareCode': 1, 'statisticsType': 'positive', 'valueType': 'event', 'homeValue': 22, 'awayValue': 6, 'renderType': 1, 'key': 'throwIns'}, {'name': 'Final third entries', 'home': '61', 'away': '34', 'compareCode': 1, 'statisticsType': 'positive', 'valueType': 'event', 'homeValue': 60, 'awayValue': 60, 'renderType': 1, 'key': 'finalThirdEntries'}, {'name': 'Final third phase', 'home': '142/166 (86%)', 'away': '42/68 (62%)', 'compareCode': 1, 'statisticsType': 'positive', 'valueType': 'team', 'homeValue': 30, 'awayValue': 44, 'homeTotal': 166, 'awayTotal': 68, 'renderType': 3, 'key': 'finalThirdPhaseStatistic'}, {'name': 'Long balls', 'home': '17/31 (55%)', 'away': '18/41 (44%)', 'compareCode': 1, 'statisticsType': 'positive', 'valueType': 'team', 'homeValue': 10, 'awayValue': 28, 'homeTotal': 31, 'awayTotal': 41, 'renderType': 3, 'key': 'accurateLongBalls'}, {'name': 'Crosses', 'home': '4/20 (20%)', 'away': '4/9 (44%)', 'compareCode': 2, 'statisticsType': 'positive', 'valueType': 'team', 'homeValue': 2, 'awayValue': 2, 'homeTotal': 20, 'awayTotal': 9, 'renderType': 3, 'key': 'accurateCross'}]}, {'groupName': 'Duels', 'statisticsItems': [{'name': 'Duels', 'home': '44%', 'away': '56%', 'compareCode': 2, 'statisticsType': 'positive', 'valueType': 'event', 'homeValue': 56, 'awayValue': 88, 'renderType': 2, 'key': 'duelWonPercent'}, {'name': 'Dispossessed', 'home': '13', 'away': '11', 'compareCode': 1, 'statisticsType': 'negative', 'valueType': 'event', 'homeValue': 22, 'awayValue': 4, 'renderType': 1, 'key': 'dispossessed'}, {'name': 'Ground duels', 'home': '38/88 (43%)', 'away': '50/88 (57%)', 'compareCode': 2, 'statisticsType': 'positive', 'valueType': 'team', 'homeValue': 14, 'awayValue': 52, 'homeTotal': 88, 'awayTotal': 88, 'renderType': 3, 'key': 'groundDuelsPercentage'}, {'name': 'Aerial duels', 'home': '9/20 (45%)', 'away': '11/20 (55%)', 'compareCode': 2, 'statisticsType': 'positive', 'valueType': 'team', 'homeValue': 16, 'awayValue': 16, 'homeTotal': 20, 'awayTotal': 20, 'renderType': 3, 'key': 'aerialDuelsPercentage'}, {'name': 'Dribbles', 'home': '7/18 (39%)', 'away': '8/17 (47%)', 'compareCode': 2, 'statisticsType': 'positive', 'valueType': 'team', 'homeValue': 4, 'awayValue': 0, 'homeTotal': 18, 'awayTotal': 17, 'renderType': 3, 'key': 'dribblesPercentage'}]}, {'groupName': 'Defending', 'statisticsItems': [{'name': 'Tackles won', 'home': '55%', 'away': '58%', 'compareCode': 2, 'statisticsType': 'positive', 'valueType': 'team', 'homeValue': 14, 'awayValue': 6, 'homeTotal': 20, 'awayTotal': 24, 'renderType': 4, 'key': 'wonTacklePercent'}, {'name': 'Total tackles', 'home': '20', 'away': '24', 'compareCode': 2, 'statisticsType': 'positive', 'valueType': 'event', 'homeValue': 4, 'awayValue': 28, 'renderType': 1, 'key': 'totalTackle'}, {'name': 'Interceptions', 'home': '5', 'away': '7', 'compareCode': 2, 'statisticsType': 'positive', 'valueType': 'event', 'homeValue': 0, 'awayValue': 6, 'renderType': 1, 'key': 'interceptionWon'}, {'name': 'Recoveries', 'home': '44', 'away': '42', 'compareCode': 1, 'statisticsType': 'positive', 'valueType': 'event', 'homeValue': 84, 'awayValue': 80, 'renderType': 1, 'key': 'ballRecovery'}, {'name': 'Clearances', 'home': '13', 'away': '26', 'compareCode': 2, 'statisticsType': 'positive', 'valueType': 'event', 'homeValue': 14, 'awayValue': 20, 'renderType': 1, 'key': 'totalClearance'}, {'name': 'Errors lead to a shot', 'home': '1', 'away': '0', 'compareCode': 1, 'statisticsType': 'negative', 'valueType': 'event', 'homeValue': 0, 'awayValue': 0, 'renderType': 1, 'key': 'errorsLeadToShot'}]}, {'groupName': 'Goalkeeping', 'statisticsItems': [{'name': 'Total saves', 'home': '3', 'away': '3', 'compareCode': 3, 'statisticsType': 'positive', 'valueType': 'event', 'homeValue': 2, 'awayValue': 0, 'renderType': 1, 'key': 'goalkeeperSaves'}, {'name': 'Goals prevented', 'home': '-0.44', 'away': '0.31', 'compareCode': 2, 'statisticsType': 'positive', 'valueType': 'event', 'homeValue': -0.6, 'awayValue': 0.5, 'renderType': 1, 'key': 'goalsPrevented'}, {'name': 'Big saves', 'home': '0', 'away': '1', 'compareCode': 2, 'statisticsType': 'positive', 'valueType': 'event', 'homeValue': 0, 'awayValue': 0, 'renderType': 1, 'key': 'diveSaves'}, {'name': 'High claims', 'home': '0', 'away': '1', 'compareCode': 2, 'statisticsType': 'positive', 'valueType': 'event', 'homeValue': 0, 'awayValue': 0, 'renderType': 1, 'key': 'highClaims'}, {'name': 'Goal kicks', 'home': '6', 'away': '6', 'compareCode': 3, 'statisticsType': 'positive', 'valueType': 'event', 'homeValue': 8, 'awayValue': 2, 'renderType': 1, 'key': 'goalKicks'}]}]}, {'period': '1ST', 'groups': [{'groupName': 'Match overview', 'statisticsItems': [{'name': 'Ball possession', 'home': '70%', 'away': '30%', 'compareCode': 1, 'statisticsType': 'positive', 'valueType': 'event', 'homeValue': 76, 'awayValue': 38, 'renderType': 2, 'key': 'ballPossession'}, {'name': 'Expected goals', 'home': '1.07', 'away': '1.56', 'compareCode': 2, 'statisticsType': 'positive', 'valueType': 'event', 'homeValue': 1.1, 'awayValue': 0.9, 'renderType': 1, 'key': 'expectedGoals'}, {'name': 'Big chances', 'home': '1', 'away': '2', 'compareCode': 2, 'statisticsType': 'positive', 'valueType': 'event', 'homeValue': 0, 'awayValue': 2, 'renderType': 1, 'key': 'bigChanceCreated'}, {'name': 'Total shots', 'home': '4', 'away': '10', 'compareCode': 2, 'statisticsType': 'positive', 'valueType': 'event', 'homeValue': 2, 'awayValue': 4, 'renderType': 1, 'key': 'totalShotsOnGoal'}, {'name': 'Goalkeeper saves', 'home': '2', 'away': '1', 'compareCode': 1, 'statisticsType': 'positive', 'valueType': 'event', 'homeValue': 2, 'awayValue': 0, 'renderType': 1, 'key': 'goalkeeperSaves'}, {'name': 'Corner kicks', 'home': '1', 'away': '1', 'compareCode': 3, 'statisticsType': 'positive', 'valueType': 'event', 'homeValue': 0, 'awayValue': 0, 'renderType': 1, 'key': 'cornerKicks'}, {'name': 'Passes', 'home': '312', 'away': '133', 'compareCode': 1, 'statisticsType': 'positive', 'valueType': 'event', 'homeValue': 208, 'awayValue': 132, 'renderType': 1, 'key': 'passes'}, {'name': 'Tackles', 'home': '2', 'away': '7', 'compareCode': 2, 'statisticsType': 'positive', 'valueType': 'event', 'homeValue': 2, 'awayValue': 4, 'renderType': 1, 'key': 'totalTackle'}, {'name': 'Free kicks', 'home': '5', 'away': '6', 'compareCode': 2, 'statisticsType': 'positive', 'valueType': 'event', 'homeValue': 2, 'awayValue': 4, 'renderType': 1, 'key': 'freeKicks'}, {'name': 'Yellow cards', 'home': '1', 'away': '0', 'compareCode': 1, 'statisticsType': 'negative', 'valueType': 'event', 'homeValue': 0, 'awayValue': 0, 'renderType': 1, 'key': 'yellowCards'}]}, {'groupName': 'Shots', 'statisticsItems': [{'name': 'Total shots', 'home': '4', 'away': '10', 'compareCode': 2, 'statisticsType': 'positive', 'valueType': 'event', 'homeValue': 6, 'awayValue': 0, 'renderType': 1, 'key': 'totalShotsOnGoal'}, {'name': 'Shots on target', 'home': '2', 'away': '4', 'compareCode': 2, 'statisticsType': 'positive', 'valueType': 'event', 'homeValue': 0, 'awayValue': 6, 'renderType': 1, 'key': 'shotsOnGoal'}, {'name': 'Hit woodwork', 'home': '0', 'away': '0', 'compareCode': 3, 'statisticsType': 'negative', 'valueType': 'event', 'homeValue': 0, 'awayValue': 0, 'renderType': 1, 'key': 'hitWoodwork'}, {'name': 'Shots off target', 'home': '2', 'away': '3', 'compareCode': 2, 'statisticsType': 'negative', 'valueType': 'event', 'homeValue': 0, 'awayValue': 2, 'renderType': 1, 'key': 'shotsOffGoal'}, {'name': 'Blocked shots', 'home': '0', 'away': '3', 'compareCode': 2, 'statisticsType': 'negative', 'valueType': 'event', 'homeValue': 0, 'awayValue': 4, 'renderType': 1, 'key': 'blockedScoringAttempt'}, {'name': 'Shots inside box', 'home': '2', 'away': '6', 'compareCode': 2, 'statisticsType': 'positive', 'valueType': 'event', 'homeValue': 0, 'awayValue': 2, 'renderType': 1, 'key': 'totalShotsInsideBox'}, {'name': 'Shots outside box', 'home': '2', 'away': '4', 'compareCode': 2, 'statisticsType': 'positive', 'valueType': 'event', 'homeValue': 2, 'awayValue': 4, 'renderType': 1, 'key': 'totalShotsOutsideBox'}]}, {'groupName': 'Attack', 'statisticsItems': [{'name': 'Big chances scored', 'home': '1', 'away': '2', 'compareCode': 2, 'statisticsType': 'positive', 'valueType': 'event', 'homeValue': 0, 'awayValue': 2, 'renderType': 1, 'key': 'bigChanceScored'}, {'name': 'Big chances missed', 'home': '0', 'away': '0', 'compareCode': 3, 'statisticsType': 'negative', 'valueType': 'event', 'homeValue': 0, 'awayValue': 0, 'renderType': 1, 'key': 'bigChanceMissed'}, {'name': 'Through balls', 'home': '0', 'away': '0', 'compareCode': 3, 'statisticsType': 'positive', 'valueType': 'event', 'homeValue': 0, 'awayValue': 0, 'renderType': 1, 'key': 'accurateThroughBall'}, {'name': 'Fouled in final third', 'home': '1', 'away': '1', 'compareCode': 3, 'statisticsType': 'positive', 'valueType': 'event', 'homeValue': 0, 'awayValue': 0, 'renderType': 1, 'key': 'fouledFinalThird'}, {'name': 'Offsides', 'home': '2', 'away': '0', 'compareCode': 1, 'statisticsType': 'negative', 'valueType': 'event', 'homeValue': 2, 'awayValue': 0, 'renderType': 1, 'key': 'offsides'}]}, {'groupName': 'Passes', 'statisticsItems': [{'name': 'Accurate passes', 'home': '284', 'away': '109', 'compareCode': 1, 'statisticsType': 'positive', 'valueType': 'event', 'homeValue': 308, 'awayValue': 118, 'renderType': 1, 'key': 'accuratePasses'}, {'name': 'Throw-ins', 'home': '6', 'away': '2', 'compareCode': 1, 'statisticsType': 'positive', 'valueType': 'event', 'homeValue': 8, 'awayValue': 2, 'renderType': 1, 'key': 'throwIns'}, {'name': 'Final third entries', 'home': '22', 'away': '14', 'compareCode': 1, 'statisticsType': 'positive', 'valueType': 'event', 'homeValue': 26, 'awayValue': 12, 'renderType': 1, 'key': 'finalThirdEntries'}, {'name': 'Long balls', 'home': '5/13 (38%)', 'away': '12/17 (71%)', 'compareCode': 2, 'statisticsType': 'positive', 'valueType': 'team', 'homeValue': 2, 'awayValue': 4, 'homeTotal': 13, 'awayTotal': 17, 'renderType': 3, 'key': 'accurateLongBalls'}, {'name': 'Crosses', 'home': '1/10 (10%)', 'away': '2/6 (33%)', 'compareCode': 2, 'statisticsType': 'positive', 'valueType': 'team', 'homeValue': 0, 'awayValue': 0, 'homeTotal': 10, 'awayTotal': 6, 'renderType': 3, 'key': 'accurateCross'}]}, {'groupName': 'Duels', 'statisticsItems': [{'name': 'Duels', 'home': '31%', 'away': '69%', 'compareCode': 2, 'statisticsType': 'positive', 'valueType': 'event', 'homeValue': 0, 'awayValue': 62, 'renderType': 2, 'key': 'duelWonPercent'}, {'name': 'Dispossessed', 'home': '4', 'away': '2', 'compareCode': 1, 'statisticsType': 'negative', 'valueType': 'event', 'homeValue': 0, 'awayValue': 2, 'renderType': 1, 'key': 'dispossessed'}, {'name': 'Ground duels', 'home': '10/29 (34%)', 'away': '19/29 (66%)', 'compareCode': 2, 'statisticsType': 'positive', 'valueType': 'team', 'homeValue': 6, 'awayValue': 12, 'homeTotal': 29, 'awayTotal': 29, 'renderType': 3, 'key': 'groundDuelsPercentage'}, {'name': 'Aerial duels', 'home': '1/7 (14%)', 'away': '6/7 (86%)', 'compareCode': 2, 'statisticsType': 'positive', 'valueType': 'team', 'homeValue': 0, 'awayValue': 10, 'homeTotal': 7, 'awayTotal': 7, 'renderType': 3, 'key': 'aerialDuelsPercentage'}, {'name': 'Dribbles', 'home': '2/5 (40%)', 'away': '5/5 (100%)', 'compareCode': 2, 'statisticsType': 'positive', 'valueType': 'team', 'homeValue': 2, 'awayValue': 2, 'homeTotal': 5, 'awayTotal': 5, 'renderType': 3, 'key': 'dribblesPercentage'}]}, {'groupName': 'Defending', 'statisticsItems': [{'name': 'Tackles won', 'home': '100%', 'away': '29%', 'compareCode': 1, 'statisticsType': 'positive', 'valueType': 'team', 'homeValue': 0, 'awayValue': 0, 'homeTotal': 2, 'awayTotal': 7, 'renderType': 4, 'key': 'wonTacklePercent'}, {'name': 'Total tackles', 'home': '2', 'away': '7', 'compareCode': 2, 'statisticsType': 'positive', 'valueType': 'event', 'homeValue': 2, 'awayValue': 12, 'renderType': 1, 'key': 'totalTackle'}, {'name': 'Interceptions', 'home': '3', 'away': '3', 'compareCode': 3, 'statisticsType': 'positive', 'valueType': 'event', 'homeValue': 0, 'awayValue': 4, 'renderType': 1, 'key': 'interceptionWon'}, {'name': 'Recoveries', 'home': '17', 'away': '18', 'compareCode': 2, 'statisticsType': 'positive', 'valueType': 'event', 'homeValue': 22, 'awayValue': 12, 'renderType': 1, 'key': 'ballRecovery'}, {'name': 'Clearances', 'home': '4', 'away': '12', 'compareCode': 2, 'statisticsType': 'positive', 'valueType': 'event', 'homeValue': 6, 'awayValue': 0, 'renderType': 1, 'key': 'totalClearance'}]}, {'groupName': 'Goalkeeping', 'statisticsItems': [{'name': 'Total saves', 'home': '2', 'away': '1', 'compareCode': 1, 'statisticsType': 'positive', 'valueType': 'event', 'homeValue': 2, 'awayValue': 0, 'renderType': 1, 'key': 'goalkeeperSaves'}, {'name': 'Goal kicks', 'home': '5', 'away': '2', 'compareCode': 1, 'statisticsType': 'positive', 'valueType': 'event', 'homeValue': 0, 'awayValue': 0, 'renderType': 1, 'key': 'goalKicks'}]}]}, {'period': '2ND', 'groups': [{'groupName': 'Match overview', 'statisticsItems': [{'name': 'Ball possession', 'home': '65%', 'away': '35%', 'compareCode': 1, 'statisticsType': 'positive', 'valueType': 'event', 'homeValue': 96, 'awayValue': 16, 'renderType': 2, 'key': 'ballPossession'}, {'name': 'Expected goals', 'home': '2.91', 'away': '0.14', 'compareCode': 1, 'statisticsType': 'positive', 'valueType': 'event', 'homeValue': 1.7, 'awayValue': 0.1, 'renderType': 1, 'key': 'expectedGoals'}, {'name': 'Big chances', 'home': '6', 'away': '0', 'compareCode': 1, 'statisticsType': 'positive', 'valueType': 'event', 'homeValue': 0, 'awayValue': 0, 'renderType': 1, 'key': 'bigChanceCreated'}, {'name': 'Total shots', 'home': '12', 'away': '4', 'compareCode': 1, 'statisticsType': 'positive', 'valueType': 'event', 'homeValue': 0, 'awayValue': 4, 'renderType': 1, 'key': 'totalShotsOnGoal'}, {'name': 'Goalkeeper saves', 'home': '1', 'away': '2', 'compareCode': 2, 'statisticsType': 'positive', 'valueType': 'event', 'homeValue': 0, 'awayValue': 0, 'renderType': 1, 'key': 'goalkeeperSaves'}, {'name': 'Corner kicks', 'home': '3', 'away': '0', 'compareCode': 1, 'statisticsType': 'positive', 'valueType': 'event', 'homeValue': 2, 'awayValue': 0, 'renderType': 1, 'key': 'cornerKicks'}, {'name': 'Passes', 'home': '296', 'away': '166', 'compareCode': 1, 'statisticsType': 'positive', 'valueType': 'event', 'homeValue': 338, 'awayValue': 42, 'renderType': 1, 'key': 'passes'}, {'name': 'Tackles', 'home': '18', 'away': '17', 'compareCode': 1, 'statisticsType': 'positive', 'valueType': 'event', 'homeValue': 20, 'awayValue': 10, 'renderType': 1, 'key': 'totalTackle'}, {'name': 'Free kicks', 'home': '6', 'away': '13', 'compareCode': 2, 'statisticsType': 'positive', 'valueType': 'event', 'homeValue': 2, 'awayValue': 4, 'renderType': 1, 'key': 'freeKicks'}, {'name': 'Yellow cards', 'home': '1', 'away': '3', 'compareCode': 2, 'statisticsType': 'negative', 'valueType': 'event', 'homeValue': 0, 'awayValue': 4, 'renderType': 1, 'key': 'yellowCards'}]}, {'groupName': 'Shots', 'statisticsItems': [{'name': 'Total shots', 'home': '12', 'away': '4', 'compareCode': 1, 'statisticsType': 'positive', 'valueType': 'event', 'homeValue': 6, 'awayValue': 2, 'renderType': 1, 'key': 'totalShotsOnGoal'}, {'name': 'Shots on target', 'home': '5', 'away': '1', 'compareCode': 1, 'statisticsType': 'positive', 'valueType': 'event', 'homeValue': 6, 'awayValue': 0, 'renderType': 1, 'key': 'shotsOnGoal'}, {'name': 'Hit woodwork', 'home': '1', 'away': '0', 'compareCode': 1, 'statisticsType': 'negative', 'valueType': 'event', 'homeValue': 0, 'awayValue': 0, 'renderType': 1, 'key': 'hitWoodwork'}, {'name': 'Shots off target', 'home': '4', 'away': '1', 'compareCode': 1, 'statisticsType': 'negative', 'valueType': 'event', 'homeValue': 2, 'awayValue': 0, 'renderType': 1, 'key': 'shotsOffGoal'}, {'name': 'Blocked shots', 'home': '3', 'away': '2', 'compareCode': 1, 'statisticsType': 'negative', 'valueType': 'event', 'homeValue': 0, 'awayValue': 2, 'renderType': 1, 'key': 'blockedScoringAttempt'}, {'name': 'Shots inside box', 'home': '10', 'away': '1', 'compareCode': 1, 'statisticsType': 'positive', 'valueType': 'event', 'homeValue': 10, 'awayValue': 0, 'renderType': 1, 'key': 'totalShotsInsideBox'}, {'name': 'Shots outside box', 'home': '2', 'away': '3', 'compareCode': 2, 'statisticsType': 'positive', 'valueType': 'event', 'homeValue': 2, 'awayValue': 4, 'renderType': 1, 'key': 'totalShotsOutsideBox'}]}, {'groupName': 'Attack', 'statisticsItems': [{'name': 'Big chances scored', 'home': '2', 'away': '0', 'compareCode': 1, 'statisticsType': 'positive', 'valueType': 'event', 'homeValue': 0, 'awayValue': 0, 'renderType': 1, 'key': 'bigChanceScored'}, {'name': 'Big chances missed', 'home': '4', 'away': '0', 'compareCode': 1, 'statisticsType': 'negative', 'valueType': 'event', 'homeValue': 0, 'awayValue': 0, 'renderType': 1, 'key': 'bigChanceMissed'}, {'name': 'Through balls', 'home': '1', 'away': '0', 'compareCode': 1, 'statisticsType': 'positive', 'valueType': 'event', 'homeValue': 0, 'awayValue': 0, 'renderType': 1, 'key': 'accurateThroughBall'}, {'name': 'Fouled in final third', 'home': '1', 'away': '1', 'compareCode': 3, 'statisticsType': 'positive', 'valueType': 'event', 'homeValue': 0, 'awayValue': 0, 'renderType': 1, 'key': 'fouledFinalThird'}, {'name': 'Offsides', 'home': '0', 'away': '0', 'compareCode': 3, 'statisticsType': 'negative', 'valueType': 'event', 'homeValue': 0, 'awayValue': 0, 'renderType': 1, 'key': 'offsides'}]}, {'groupName': 'Passes', 'statisticsItems': [{'name': 'Accurate passes', 'home': '268', 'away': '126', 'compareCode': 1, 'statisticsType': 'positive', 'valueType': 'event', 'homeValue': 300, 'awayValue': 50, 'renderType': 1, 'key': 'accuratePasses'}, {'name': 'Throw-ins', 'home': '12', 'away': '9', 'compareCode': 1, 'statisticsType': 'positive', 'valueType': 'event', 'homeValue': 6, 'awayValue': 16, 'renderType': 1, 'key': 'throwIns'}, {'name': 'Final third entries', 'home': '39', 'away': '20', 'compareCode': 1, 'statisticsType': 'positive', 'valueType': 'event', 'homeValue': 0, 'awayValue': 4, 'renderType': 1, 'key': 'finalThirdEntries'}, {'name': 'Long balls', 'home': '12/18 (67%)', 'away': '6/24 (25%)', 'compareCode': 1, 'statisticsType': 'positive', 'valueType': 'team', 'homeValue': 20, 'awayValue': 6, 'homeTotal': 18, 'awayTotal': 24, 'renderType': 3, 'key': 'accurateLongBalls'}, {'name': 'Crosses', 'home': '3/10 (30%)', 'away': '2/3 (67%)', 'compareCode': 2, 'statisticsType': 'positive', 'valueType': 'team', 'homeValue': 4, 'awayValue': 2, 'homeTotal': 10, 'awayTotal': 3, 'renderType': 3, 'key': 'accurateCross'}]}, {'groupName': 'Duels', 'statisticsItems': [{'name': 'Duels', 'home': '50%', 'away': '50%', 'compareCode': 3, 'statisticsType': 'positive', 'valueType': 'event', 'homeValue': 34, 'awayValue': 40, 'renderType': 2, 'key': 'duelWonPercent'}, {'name': 'Dispossessed', 'home': '9', 'away': '9', 'compareCode': 3, 'statisticsType': 'negative', 'valueType': 'event', 'homeValue': 4, 'awayValue': 8, 'renderType': 1, 'key': 'dispossessed'}, {'name': 'Ground duels', 'home': '28/59 (47%)', 'away': '31/59 (53%)', 'compareCode': 2, 'statisticsType': 'positive', 'valueType': 'team', 'homeValue': 54, 'awayValue': 44, 'homeTotal': 59, 'awayTotal': 59, 'renderType': 3, 'key': 'groundDuelsPercentage'}, {'name': 'Aerial duels', 'home': '8/13 (62%)', 'away': '5/13 (38%)', 'compareCode': 1, 'statisticsType': 'positive', 'valueType': 'team', 'homeValue': 10, 'awayValue': 0, 'homeTotal': 13, 'awayTotal': 13, 'renderType': 3, 'key': 'aerialDuelsPercentage'}, {'name': 'Dribbles', 'home': '5/13 (38%)', 'away': '3/12 (25%)', 'compareCode': 1, 'statisticsType': 'positive', 'valueType': 'team', 'homeValue': 6, 'awayValue': 0, 'homeTotal': 13, 'awayTotal': 12, 'renderType': 3, 'key': 'dribblesPercentage'}]}, {'groupName': 'Defending', 'statisticsItems': [{'name': 'Tackles won', 'home': '50%', 'away': '71%', 'compareCode': 2, 'statisticsType': 'positive', 'valueType': 'team', 'homeValue': 10, 'awayValue': 22, 'homeTotal': 18, 'awayTotal': 17, 'renderType': 4, 'key': 'wonTacklePercent'}, {'name': 'Total tackles', 'home': '18', 'away': '17', 'compareCode': 1, 'statisticsType': 'positive', 'valueType': 'event', 'homeValue': 12, 'awayValue': 0, 'renderType': 1, 'key': 'totalTackle'}, {'name': 'Interceptions', 'home': '2', 'away': '4', 'compareCode': 2, 'statisticsType': 'positive', 'valueType': 'event', 'homeValue': 2, 'awayValue': 6, 'renderType': 1, 'key': 'interceptionWon'}, {'name': 'Recoveries', 'home': '27', 'away': '24', 'compareCode': 1, 'statisticsType': 'positive', 'valueType': 'event', 'homeValue': 16, 'awayValue': 44, 'renderType': 1, 'key': 'ballRecovery'}, {'name': 'Clearances', 'home': '9', 'away': '14', 'compareCode': 2, 'statisticsType': 'positive', 'valueType': 'event', 'homeValue': 2, 'awayValue': 4, 'renderType': 1, 'key': 'totalClearance'}]}, {'groupName': 'Goalkeeping', 'statisticsItems': [{'name': 'Total saves', 'home': '1', 'away': '2', 'compareCode': 2, 'statisticsType': 'positive', 'valueType': 'event', 'homeValue': 0, 'awayValue': 0, 'renderType': 1, 'key': 'goalkeeperSaves'}, {'name': 'Goal kicks', 'home': '1', 'away': '4', 'compareCode': 2, 'statisticsType': 'positive', 'valueType': 'event', 'homeValue': 0, 'awayValue': 6, 'renderType': 1, 'key': 'goalKicks'}]}]}]}}\n"
     ]
    }
   ],
   "source": [
    "def get_json(url):\n",
    "    try:\n",
    "        driver = webdriver.Chrome()\n",
    "        driver.get(url)\n",
    "        pre = driver.find_element(By.TAG_NAME, 'pre')\n",
    "        response = json.loads(pre.text)\n",
    "        driver.close()\n",
    "        if \"error\" in response.keys():\n",
    "            return {\"status_code\": 403}\n",
    "        else:\n",
    "            return {\"status_code\": 200, \"json\": response}\n",
    "    except Exception as e: \n",
    "        return {\"status_code\": 400, \"exception\": e}\n",
    "\n",
    "url = \"https://www.sofascore.com/api/v1/event/12450261/statistics\"\n",
    "response = get_json(url)\n",
    "print(response)"
   ]
  },
  {
   "cell_type": "code",
   "execution_count": 30,
   "metadata": {},
   "outputs": [
    {
     "data": {
      "text/plain": [
       "{'code': 403, 'reason': 'Forbidden'}"
      ]
     },
     "execution_count": 30,
     "metadata": {},
     "output_type": "execute_result"
    }
   ],
   "source": [
    "response[\"error\"]"
   ]
  },
  {
   "cell_type": "code",
   "execution_count": 32,
   "metadata": {},
   "outputs": [
    {
     "data": {
      "text/plain": [
       "400"
      ]
     },
     "execution_count": 32,
     "metadata": {},
     "output_type": "execute_result"
    }
   ],
   "source": [
    "test_return = {\"status_code\": 400, \"json\": response}\n",
    "\n",
    "test_return[\"status_code\"]"
   ]
  },
  {
   "cell_type": "markdown",
   "metadata": {},
   "source": [
    "### Comments"
   ]
  },
  {
   "cell_type": "code",
   "execution_count": 7,
   "metadata": {},
   "outputs": [
    {
     "name": "stdout",
     "output_type": "stream",
     "text": [
      "error\n"
     ]
    }
   ],
   "source": [
    "response = requests.get(\"https://www.sofascore.com/api/v1/event/12450261/comments/fr\")\n",
    "if response.status_code == 200:\n",
    "    response.json()\n",
    "else:\n",
    "    print(\"error\")"
   ]
  },
  {
   "cell_type": "code",
   "execution_count": 8,
   "metadata": {},
   "outputs": [
    {
     "name": "stdout",
     "output_type": "stream",
     "text": [
      "error\n"
     ]
    }
   ],
   "source": [
    "matchs = []\n",
    "match_id = 12450261\n",
    "response = requests.get(f\"https://www.sofascore.com/api/v1/event/{match_id}\")\n",
    "if response.status_code == 200:\n",
    "    data = response.json()\n",
    "    match = {\n",
    "            \"league\" : data[\"event\"][\"tournament\"][\"name\"],\n",
    "            \"country\" : data[\"event\"][\"tournament\"][\"category\"][\"country\"][\"alpha3\"],\n",
    "            \"season\" : data[\"event\"][\"season\"][\"year\"],\n",
    "            \"round\" : data[\"event\"][\"roundInfo\"][\"round\"],\n",
    "            \"match_start\" : data[\"event\"][\"startTimestamp\"],\n",
    "            \"match_name\" : data[\"event\"][\"slug\"],\n",
    "            \"match_id\" : data[\"event\"][\"id\"],\n",
    "\n",
    "            \"attendance\" : data[\"event\"][\"attendance\"],\n",
    "            \"city\" : data[\"event\"][\"venue\"][\"city\"][\"name\"],\n",
    "            \"latitude\" : data[\"event\"][\"venue\"][\"venueCoordinates\"][\"latitude\"],\n",
    "            \"longitude\" : data[\"event\"][\"venue\"][\"venueCoordinates\"][\"longitude\"],\n",
    "            \"stadium\" : data[\"event\"][\"venue\"][\"name\"],\n",
    "            \"capacity\" : data[\"event\"][\"venue\"][\"capacity\"],\n",
    "\n",
    "            \"referee_name\" : data[\"event\"][\"referee\"][\"name\"],\n",
    "            \"hist_yellow_cards\" : data[\"event\"][\"referee\"][\"yellowCards\"],\n",
    "            \"hist_red_cards\" : data[\"event\"][\"referee\"][\"redCards\"],\n",
    "            \"hist_yellow_red_cards\" : data[\"event\"][\"referee\"][\"yellowRedCards\"],\n",
    "            \"referee_games\" : data[\"event\"][\"referee\"][\"games\"],\n",
    "            \"sofascore_referee_id\" : data[\"event\"][\"referee\"][\"id\"],\n",
    "            \"referee_nationality\" : data[\"event\"][\"referee\"][\"country\"][\"alpha3\"],\n",
    "\n",
    "            \"home_name\" : data[\"event\"][\"homeTeam\"][\"shortName\"],\n",
    "            \"home_id\" : data[\"event\"][\"homeTeam\"][\"id\"],\n",
    "            \"home_country\" : data[\"event\"][\"homeTeam\"][\"country\"][\"alpha3\"],\n",
    "            \"home_manager_id\" : data[\"event\"][\"homeTeam\"][\"manager\"][\"id\"],\n",
    "            \"home_manager_country\" : data[\"event\"][\"homeTeam\"][\"manager\"][\"country\"][\"alpha3\"],\n",
    "            \"home_manager_name\" : data[\"event\"][\"homeTeam\"][\"manager\"][\"name\"],\n",
    "\n",
    "            \"away_name\" : data[\"event\"][\"awayTeam\"][\"shortName\"],\n",
    "            \"away_id\" : data[\"event\"][\"awayTeam\"][\"id\"],\n",
    "            \"away_country\" : data[\"event\"][\"awayTeam\"][\"country\"][\"alpha3\"],\n",
    "            \"away_manager_id\" : data[\"event\"][\"awayTeam\"][\"manager\"][\"id\"],\n",
    "            \"away_manager_country\" : data[\"event\"][\"awayTeam\"][\"manager\"][\"country\"][\"alpha3\"],\n",
    "            \"away_manager_name\" : data[\"event\"][\"awayTeam\"][\"manager\"][\"name\"]\n",
    "            }\n",
    "    matchs.append(match)\n",
    "    del match\n",
    "else:\n",
    "    print(\"error\")\n",
    "\n",
    "save_data = pd.DataFrame(matchs)"
   ]
  },
  {
   "cell_type": "code",
   "execution_count": 9,
   "metadata": {},
   "outputs": [],
   "source": [
    "headers = {\"User-Agent\": \"My User Agent 1.0\",}\n"
   ]
  },
  {
   "cell_type": "code",
   "execution_count": 10,
   "metadata": {},
   "outputs": [
    {
     "name": "stdout",
     "output_type": "stream",
     "text": [
      "error\n"
     ]
    }
   ],
   "source": [
    "response = requests.get(\"https://www.sofascore.com/api/v1/event/12436589/statistics\", headers=headers)\n",
    "if response.status_code == 200:\n",
    "    response.json()\n",
    "else:\n",
    "    print(\"error\")"
   ]
  },
  {
   "cell_type": "code",
   "execution_count": 25,
   "metadata": {},
   "outputs": [],
   "source": [
    "response = requests.get(\"https://www.sofascore.com/api/v1/event/12436975/votes\")\n",
    "if response.status_code == 200:\n",
    "    response.json()\n",
    "else:\n",
    "    print(\"error\")"
   ]
  },
  {
   "cell_type": "markdown",
   "metadata": {},
   "source": [
    "# Scrape rounds : WIP"
   ]
  },
  {
   "cell_type": "code",
   "execution_count": 38,
   "metadata": {},
   "outputs": [],
   "source": [
    "\n",
    "save_file = pd.read_csv(\"test.csv\")\n",
    "\n",
    "#response = requests.get(\"https://www.sofascore.com/api/v1/unique-tournament/34/season/52571/events/round/32\")\n",
    "response = get_json(\"https://www.sofascore.com/api/v1/unique-tournament/34/season/52571/events/round/2/slug/qualification-round-2\")\n",
    "if response[\"status_code\"] == 200:\n",
    "    data = response[\"json\"]\n",
    "else:\n",
    "    print(\"error\")\n",
    "\n",
    "matchs = []\n",
    "\n",
    "for _ in data[\"events\"]:\n",
    "    match = {\n",
    "        \"id\" : _[\"id\"],\n",
    "        \"tournament\": _[\"tournament\"][\"slug\"],\n",
    "        \"match_name\": f'{_[\"homeTeam\"][\"shortName\"]}-{_[\"awayTeam\"][\"shortName\"]}',\n",
    "        \"league\": _[\"tournament\"][\"slug\"],\n",
    "        \"country\": _[\"tournament\"][\"category\"][\"country\"][\"alpha3\"],\n",
    "        \"season\": _[\"season\"][\"year\"],\n",
    "        \"round\": _[\"roundInfo\"][\"round\"],\n",
    "        \"status\": _[\"status\"][\"type\"]\n",
    "    }\n",
    "    matchs.append(match)\n",
    "    del match\n",
    "\n",
    "data_to_save = pd.DataFrame(matchs)\n",
    "save_file = pd.concat([save_file, data_to_save])\n",
    "save_file.to_csv(\"test.csv\", index=False)"
   ]
  },
  {
   "cell_type": "code",
   "execution_count": 20,
   "metadata": {},
   "outputs": [],
   "source": [
    "save_file = pd.DataFrame(columns=[\"id\", \"tournament\", \"match_name\", \"league\", \"country\", \"season\", \"round\"])\n",
    "save_file.to_csv(\"test.csv\", index=False)"
   ]
  },
  {
   "cell_type": "code",
   "execution_count": 4,
   "metadata": {},
   "outputs": [
    {
     "name": "stdout",
     "output_type": "stream",
     "text": [
      "{'status_code': 200, 'json': {'currentRound': {'round': 29, 'name': 'Final', 'slug': 'final'}, 'rounds': [{'round': 1}, {'round': 2}, {'round': 3}, {'round': 4}, {'round': 5}, {'round': 6}, {'round': 7}, {'round': 8}, {'round': 9}, {'round': 10}, {'round': 11}, {'round': 12}, {'round': 13}, {'round': 14}, {'round': 15}, {'round': 16}, {'round': 17}, {'round': 18}, {'round': 19}, {'round': 20}, {'round': 21}, {'round': 22}, {'round': 23}, {'round': 24}, {'round': 25}, {'round': 26}, {'round': 27}, {'round': 28}, {'round': 29}, {'round': 30}, {'round': 31}, {'round': 32}, {'round': 33}, {'round': 34}, {'round': 1, 'name': 'Qualification round 1', 'slug': 'qualification-round-1'}, {'round': 2, 'name': 'Qualification round 2', 'slug': 'qualification-round-2'}, {'round': 29, 'name': 'Final', 'slug': 'final'}]}}\n",
      "{'currentRound': {'round': 29, 'name': 'Final', 'slug': 'final'}, 'rounds': [{'round': 1}, {'round': 2}, {'round': 3}, {'round': 4}, {'round': 5}, {'round': 6}, {'round': 7}, {'round': 8}, {'round': 9}, {'round': 10}, {'round': 11}, {'round': 12}, {'round': 13}, {'round': 14}, {'round': 15}, {'round': 16}, {'round': 17}, {'round': 18}, {'round': 19}, {'round': 20}, {'round': 21}, {'round': 22}, {'round': 23}, {'round': 24}, {'round': 25}, {'round': 26}, {'round': 27}, {'round': 28}, {'round': 29}, {'round': 30}, {'round': 31}, {'round': 32}, {'round': 33}, {'round': 34}, {'round': 1, 'name': 'Qualification round 1', 'slug': 'qualification-round-1'}, {'round': 2, 'name': 'Qualification round 2', 'slug': 'qualification-round-2'}, {'round': 29, 'name': 'Final', 'slug': 'final'}]}\n"
     ]
    }
   ],
   "source": [
    "url = \"https://www.sofascore.com/api/v1/unique-tournament/34/season/52571/rounds\"\n",
    "response = get_json(url)\n",
    "print(response)\n",
    "#response = requests.get(\"https://www.sofascore.com/api/v1/unique-tournament/34/season/42273/rounds\")\n",
    "if response[\"status_code\"] == 200:\n",
    "    data = response[\"json\"]\n",
    "    print(data)\n",
    "else:\n",
    "    print(\"error\")"
   ]
  },
  {
   "cell_type": "code",
   "execution_count": 37,
   "metadata": {},
   "outputs": [
    {
     "name": "stdout",
     "output_type": "stream",
     "text": [
      "https://www.sofascore.com/api/v1/unique-tournament/34/season/52571/events/round/1\n",
      "https://www.sofascore.com/api/v1/unique-tournament/34/season/52571/events/round/2\n",
      "https://www.sofascore.com/api/v1/unique-tournament/34/season/52571/events/round/3\n",
      "https://www.sofascore.com/api/v1/unique-tournament/34/season/52571/events/round/4\n",
      "https://www.sofascore.com/api/v1/unique-tournament/34/season/52571/events/round/5\n",
      "https://www.sofascore.com/api/v1/unique-tournament/34/season/52571/events/round/6\n",
      "https://www.sofascore.com/api/v1/unique-tournament/34/season/52571/events/round/7\n",
      "https://www.sofascore.com/api/v1/unique-tournament/34/season/52571/events/round/8\n",
      "https://www.sofascore.com/api/v1/unique-tournament/34/season/52571/events/round/9\n",
      "https://www.sofascore.com/api/v1/unique-tournament/34/season/52571/events/round/10\n",
      "https://www.sofascore.com/api/v1/unique-tournament/34/season/52571/events/round/11\n",
      "https://www.sofascore.com/api/v1/unique-tournament/34/season/52571/events/round/12\n",
      "https://www.sofascore.com/api/v1/unique-tournament/34/season/52571/events/round/13\n",
      "https://www.sofascore.com/api/v1/unique-tournament/34/season/52571/events/round/14\n",
      "https://www.sofascore.com/api/v1/unique-tournament/34/season/52571/events/round/15\n",
      "https://www.sofascore.com/api/v1/unique-tournament/34/season/52571/events/round/16\n",
      "https://www.sofascore.com/api/v1/unique-tournament/34/season/52571/events/round/17\n",
      "https://www.sofascore.com/api/v1/unique-tournament/34/season/52571/events/round/18\n",
      "https://www.sofascore.com/api/v1/unique-tournament/34/season/52571/events/round/19\n",
      "https://www.sofascore.com/api/v1/unique-tournament/34/season/52571/events/round/20\n",
      "https://www.sofascore.com/api/v1/unique-tournament/34/season/52571/events/round/21\n",
      "https://www.sofascore.com/api/v1/unique-tournament/34/season/52571/events/round/22\n",
      "https://www.sofascore.com/api/v1/unique-tournament/34/season/52571/events/round/23\n",
      "https://www.sofascore.com/api/v1/unique-tournament/34/season/52571/events/round/24\n",
      "https://www.sofascore.com/api/v1/unique-tournament/34/season/52571/events/round/25\n",
      "https://www.sofascore.com/api/v1/unique-tournament/34/season/52571/events/round/26\n",
      "https://www.sofascore.com/api/v1/unique-tournament/34/season/52571/events/round/27\n",
      "https://www.sofascore.com/api/v1/unique-tournament/34/season/52571/events/round/28\n",
      "https://www.sofascore.com/api/v1/unique-tournament/34/season/52571/events/round/29\n",
      "https://www.sofascore.com/api/v1/unique-tournament/34/season/52571/events/round/30\n",
      "https://www.sofascore.com/api/v1/unique-tournament/34/season/52571/events/round/31\n",
      "https://www.sofascore.com/api/v1/unique-tournament/34/season/52571/events/round/32\n",
      "https://www.sofascore.com/api/v1/unique-tournament/34/season/52571/events/round/33\n",
      "https://www.sofascore.com/api/v1/unique-tournament/34/season/52571/events/round/34\n",
      "https://www.sofascore.com/api/v1/unique-tournament/34/season/52571/events/round/1/slug/qualification-round-1\n",
      "https://www.sofascore.com/api/v1/unique-tournament/34/season/52571/events/round/2/slug/qualification-round-2\n",
      "https://www.sofascore.com/api/v1/unique-tournament/34/season/52571/events/round/29/slug/final\n"
     ]
    }
   ],
   "source": [
    "for _ in data[\"rounds\"]:\n",
    "    if len(_) > 1:\n",
    "        print(f'https://www.sofascore.com/api/v1/unique-tournament/34/season/52571/events/round/{_[\"round\"]}/slug/{_[\"slug\"]}')\n",
    "    else:\n",
    "        print(f'https://www.sofascore.com/api/v1/unique-tournament/34/season/52571/events/round/{_[\"round\"]}')"
   ]
  }
 ],
 "metadata": {
  "kernelspec": {
   "display_name": "Python 3",
   "language": "python",
   "name": "python3"
  },
  "language_info": {
   "codemirror_mode": {
    "name": "ipython",
    "version": 3
   },
   "file_extension": ".py",
   "mimetype": "text/x-python",
   "name": "python",
   "nbconvert_exporter": "python",
   "pygments_lexer": "ipython3",
   "version": "3.10.7"
  }
 },
 "nbformat": 4,
 "nbformat_minor": 2
}
