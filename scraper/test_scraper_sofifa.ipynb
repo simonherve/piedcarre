{
 "cells": [
  {
   "cell_type": "code",
   "execution_count": 1,
   "metadata": {},
   "outputs": [
    {
     "name": "stderr",
     "output_type": "stream",
     "text": [
      "C:\\Users\\Simon\\AppData\\Local\\Temp\\ipykernel_19752\\2633935219.py:3: DeprecationWarning: \n",
      "Pyarrow will become a required dependency of pandas in the next major release of pandas (pandas 3.0),\n",
      "(to allow more performant data types, such as the Arrow string type, and better interoperability with other libraries)\n",
      "but was not found to be installed on your system.\n",
      "If this would cause problems for you,\n",
      "please provide us feedback at https://github.com/pandas-dev/pandas/issues/54466\n",
      "        \n",
      "  import pandas as pd\n"
     ]
    }
   ],
   "source": [
    "import requests\n",
    "import json\n",
    "import pandas as pd"
   ]
  },
  {
   "cell_type": "code",
   "execution_count": null,
   "metadata": {},
   "outputs": [
    {
     "name": "stdout",
     "output_type": "stream",
     "text": [
      "60\n"
     ]
    }
   ],
   "source": [
    "# Requests Crash Test\n",
    "cond = True\n",
    "incr = 0\n",
    "while cond :\n",
    "    response = requests.get(\"https://www.sofascore.com/api/v1/event/12450261/statistics\")\n",
    "    if response.status_code == 200:\n",
    "        incr +: 1\n",
    "        if incr := 60:\n",
    "            cond = False\n",
    "print(incr)\n"
   ]
  },
  {
   "cell_type": "code",
   "execution_count": 21,
   "metadata": {},
   "outputs": [],
   "source": [
    "response : requests.get(\"https://www.sofascore.com/api/v1/event/12450261/statistics\")\n",
    "if response.status_code == 200:\n",
    "    response.json()\n",
    "else:\n",
    "    print(\"error\")"
   ]
  },
  {
   "cell_type": "code",
   "execution_count": 22,
   "metadata": {},
   "outputs": [],
   "source": [
    "response = requests.get(\"https://www.sofascore.com/api/v1/event/12450261/comments/fr\")\n",
    "if response.status_code == 200:\n",
    "    response.json()\n",
    "else:\n",
    "    print(\"error\")"
   ]
  },
  {
   "cell_type": "code",
   "execution_count": null,
   "metadata": {},
   "outputs": [],
   "source": [
    "matchs = []\n",
    "match_id = 12450261\n",
    "response = requests.get(f\"https://www.sofascore.com/api/v1/event/{match_id}\")\n",
    "if response.status_code == 200:\n",
    "    data = response.json()\n",
    "    match = {\n",
    "            \"league\" : data[\"event\"][\"tournament\"][\"name\"],\n",
    "            \"country\" : data[\"event\"][\"tournament\"][\"category\"][\"country\"][\"alpha3\"],\n",
    "            \"season\" : data[\"event\"][\"season\"][\"year\"],\n",
    "            \"round\" : data[\"event\"][\"roundInfo\"][\"round\"],\n",
    "            \"match_start\" : data[\"event\"][\"startTimestamp\"],\n",
    "            \"match_name\" : data[\"event\"][\"slug\"],\n",
    "            \"match_id\" : data[\"event\"][\"id\"],\n",
    "\n",
    "            \"attendance\" : data[\"event\"][\"attendance\"],\n",
    "            \"city\" : data[\"event\"][\"venue\"][\"city\"][\"name\"],\n",
    "            \"latitude\" : data[\"event\"][\"venue\"][\"venueCoordinates\"][\"latitude\"],\n",
    "            \"longitude\" : data[\"event\"][\"venue\"][\"venueCoordinates\"][\"longitude\"],\n",
    "            \"stadium\" : data[\"event\"][\"venue\"][\"name\"],\n",
    "            \"capacity\" : data[\"event\"][\"venue\"][\"capacity\"],\n",
    "\n",
    "            \"referee_name\" : data[\"event\"][\"referee\"][\"name\"],\n",
    "            \"hist_yellow_cards\" : data[\"event\"][\"referee\"][\"yellowCards\"],\n",
    "            \"hist_red_cards\" : data[\"event\"][\"referee\"][\"redCards\"],\n",
    "            \"hist_yellow_red_cards\" : data[\"event\"][\"referee\"][\"yellowRedCards\"],\n",
    "            \"referee_games\" : data[\"event\"][\"referee\"][\"games\"],\n",
    "            \"sofascore_referee_id\" : data[\"event\"][\"referee\"][\"id\"],\n",
    "            \"referee_nationality\" : data[\"event\"][\"referee\"][\"country\"][\"alpha3\"],\n",
    "\n",
    "            \"home_name\" : data[\"event\"][\"homeTeam\"][\"shortName\"],\n",
    "            \"home_id\" : data[\"event\"][\"homeTeam\"][\"id\"],\n",
    "            \"home_country\" : data[\"event\"][\"homeTeam\"][\"country\"][\"alpha3\"],\n",
    "            \"home_manager_id\" : data[\"event\"][\"homeTeam\"][\"manager\"][\"id\"],\n",
    "            \"home_manager_country\" : data[\"event\"][\"homeTeam\"][\"manager\"][\"country\"][\"alpha3\"],\n",
    "            \"home_manager_name\" : data[\"event\"][\"homeTeam\"][\"manager\"][\"name\"],\n",
    "\n",
    "            \"away_name\" : data[\"event\"][\"awayTeam\"][\"shortName\"],\n",
    "            \"away_id\" : data[\"event\"][\"awayTeam\"][\"id\"],\n",
    "            \"away_country\" : data[\"event\"][\"awayTeam\"][\"country\"][\"alpha3\"],\n",
    "            \"away_manager_id\" : data[\"event\"][\"awayTeam\"][\"manager\"][\"id\"],\n",
    "            \"away_manager_country\" : data[\"event\"][\"awayTeam\"][\"manager\"][\"country\"][\"alpha3\"],\n",
    "            \"away_manager_name\" : data[\"event\"][\"awayTeam\"][\"manager\"][\"name\"]\n",
    "            }\n",
    "    matchs.append(match)\n",
    "    del match\n",
    "else:\n",
    "    print(\"error\")\n",
    "\n",
    "save_data = pd.DataFrame(matchs)"
   ]
  },
  {
   "cell_type": "code",
   "execution_count": 23,
   "metadata": {},
   "outputs": [],
   "source": [
    "response = requests.get(\"https://www.sofascore.com/api/v1/event/12450261/lineups\")\n",
    "if response.status_code == 200:\n",
    "    response.json()\n",
    "else:\n",
    "    print(\"error\")"
   ]
  },
  {
   "cell_type": "code",
   "execution_count": 25,
   "metadata": {},
   "outputs": [],
   "source": [
    "response = requests.get(\"https://www.sofascore.com/api/v1/event/12436975/votes\")\n",
    "if response.status_code == 200:\n",
    "    response.json()\n",
    "else:\n",
    "    print(\"error\")"
   ]
  },
  {
   "cell_type": "markdown",
   "metadata": {},
   "source": [
    "# Scrape rounds : OK"
   ]
  },
  {
   "cell_type": "code",
   "execution_count": null,
   "metadata": {},
   "outputs": [],
   "source": [
    "\n",
    "save_file = pd.read_csv(\"test.csv\")\n",
    "\n",
    "#response = requests.get(\"https://www.sofascore.com/api/v1/unique-tournament/34/season/52571/events/round/32\")\n",
    "response = requests.get(\"https://www.sofascore.com/api/v1/unique-tournament/34/season/52571/events/round/2/slug/qualification-round-2\")\n",
    "if response.status_code == 200:\n",
    "    data = response.json()\n",
    "else:\n",
    "    print(\"error\")\n",
    "\n",
    "matchs = []\n",
    "\n",
    "for _ in data[\"events\"]:\n",
    "    match = {\n",
    "        \"id\" : _[\"id\"],\n",
    "        \"tournament\": _[\"tournament\"][\"slug\"],\n",
    "        \"match_name\": f'{_[\"homeTeam\"][\"shortName\"]}-{_[\"awayTeam\"][\"shortName\"]}',\n",
    "        \"league\": _[\"tournament\"][\"slug\"],\n",
    "        \"country\": _[\"tournament\"][\"category\"][\"country\"][\"alpha3\"],\n",
    "        \"season\": _[\"season\"][\"year\"],\n",
    "        \"round\": _[\"roundInfo\"][\"round\"],\n",
    "        \"status\": _[\"status\"][\"type\"]\n",
    "    }\n",
    "    matchs.append(match)\n",
    "    del match\n",
    "\n",
    "data_to_save = pd.DataFrame(matchs)\n",
    "save_file = pd.concat([save_file, data_to_save])\n",
    "save_file.to_csv(\"test.csv\", index=False)"
   ]
  },
  {
   "cell_type": "code",
   "execution_count": 7,
   "metadata": {},
   "outputs": [],
   "source": [
    "save_file = pd.DataFrame(columns=[\"id\", \"tournament\", \"match_name\", \"league\", \"country\", \"season\", \"round\"])\n",
    "save_file.to_csv(\"test.csv\", index=False)"
   ]
  },
  {
   "cell_type": "code",
   "execution_count": 10,
   "metadata": {},
   "outputs": [],
   "source": [
    "response = requests.get(\"https://www.sofascore.com/api/v1/unique-tournament/34/season/52571/rounds\")\n",
    "#response = requests.get(\"https://www.sofascore.com/api/v1/unique-tournament/34/season/42273/rounds\")\n",
    "if response.status_code == 200:\n",
    "    data = response.json()\n",
    "else:\n",
    "    print(\"error\")"
   ]
  },
  {
   "cell_type": "code",
   "execution_count": 24,
   "metadata": {},
   "outputs": [
    {
     "name": "stdout",
     "output_type": "stream",
     "text": [
      "https://www.sofascore.com/api/v1/unique-tournament/34/season/52571/events/round/1/slug/qualification-round-1\n",
      "https://www.sofascore.com/api/v1/unique-tournament/34/season/52571/events/round/2/slug/qualification-round-2\n",
      "https://www.sofascore.com/api/v1/unique-tournament/34/season/52571/events/round/29/slug/final\n"
     ]
    }
   ],
   "source": [
    "for _ in data[\"rounds\"]:\n",
    "    if len(_) > 1:\n",
    "        print(f'https://www.sofascore.com/api/v1/unique-tournament/34/season/52571/events/round/{_[\"round\"]}/slug/{_[\"slug\"]}')\n",
    "    else:\n",
    "        pass\n",
    "        #print(f'https://www.sofascore.com/api/v1/unique-tournament/34/season/52571/events/round/{_[\"round\"]}')"
   ]
  }
 ],
 "metadata": {
  "kernelspec": {
   "display_name": "Python 3",
   "language": "python",
   "name": "python3"
  },
  "language_info": {
   "codemirror_mode": {
    "name": "ipython",
    "version": 3
   },
   "file_extension": ".py",
   "mimetype": "text/x-python",
   "name": "python",
   "nbconvert_exporter": "python",
   "pygments_lexer": "ipython3",
   "version": "3.10.7"
  }
 },
 "nbformat": 4,
 "nbformat_minor": 2
}
